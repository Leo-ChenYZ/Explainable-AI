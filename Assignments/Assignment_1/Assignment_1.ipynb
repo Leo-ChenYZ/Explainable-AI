{
  "cells": [
    {
      "cell_type": "markdown",
      "metadata": {
        "id": "xtjW0SnQG-j-"
      },
      "source": [
        "# AIPI 590 - XAI | Assignment #01\n",
        "### Leo Chen\n",
        "\n",
        "[![Open In Collab](https://colab.research.google.com/assets/colab-badge.svg)](https://colab.research.google.com/github/Leo-ChenYZ/Explainable-AI/blob/main/Assignments/Assignment_1/Assignment_1.ipynb)"
      ]
    },
    {
      "cell_type": "markdown",
      "metadata": {
        "id": "ZAWypWktG-j_"
      },
      "source": [
        "👉 Make sure to delete the helper markdown below in your own notebook!\n",
        "\n",
        "## DO:\n",
        "* Use markdown and comments effectively\n",
        "* Pull out classes and functions into scripts\n",
        "* Ensure cells are executed in order and avoid skipping cells to maintain reproducibility\n",
        "* Choose the appropriate runtime (i.e. GPU) if needed\n",
        "* If you are using a dataset that is too large to put in your GitHub repository, you must either pull it in via Hugging Face Datasets or put it in an S3 bucket and use boto3 to pull from there.\n",
        "* Use versioning on all installs (ie pandas==1.3.0) to ensure consistency across versions\n",
        "* Implement error handling where appropriate\n",
        "\n",
        "## DON'T:\n",
        "* Absolutely NO sending us Google Drive links or zip files with data (see above).\n",
        "* Load packages throughout the notebook. Please load all packages in the first code cell in your notebook.\n",
        "* Add API keys or tokens directly to your notebook!!!! EVER!!!\n",
        "* Include cells that you used for testing or debugging. Delete these before submission\n",
        "* Have errors rendered in your notebook. Fix errors prior to submission."
      ]
    },
    {
      "cell_type": "code",
      "execution_count": 1,
      "metadata": {
        "id": "6ERuTJ4sG-kA",
        "outputId": "65b85fd9-10e0-45fa-fe73-1fa8fdcd0d69",
        "colab": {
          "base_uri": "https://localhost:8080/"
        }
      },
      "outputs": [
        {
          "output_type": "stream",
          "name": "stdout",
          "text": [
            "Cloning into 'Explainable-AI'...\n",
            "remote: Enumerating objects: 22, done.\u001b[K\n",
            "remote: Counting objects: 100% (22/22), done.\u001b[K\n",
            "remote: Compressing objects: 100% (15/15), done.\u001b[K\n",
            "remote: Total 22 (delta 1), reused 0 (delta 0), pack-reused 0 (from 0)\u001b[K\n",
            "Receiving objects: 100% (22/22), 168.98 KiB | 7.35 MiB/s, done.\n",
            "Resolving deltas: 100% (1/1), done.\n",
            "/content/Explainable-AI/Assignments/Assignment_1\n",
            "Assignment_1.ipynb  README.md  WA_Fn-UseC_-Telco-Customer-Churn.csv\n"
          ]
        }
      ],
      "source": [
        "# Please use this to connect your GitHub repository to your Google Colab notebook\n",
        "# Connects to any needed files from GitHub and Google Drive\n",
        "import os\n",
        "\n",
        "# Remove Colab default sample_data\n",
        "!rm -r ./sample_data\n",
        "\n",
        "# Clone GitHub files to colab workspace\n",
        "repo_name = \"Explainable-AI\" # Change to your repo name\n",
        "git_path = 'https://github.com/Leo-ChenYZ/Explainable-AI.git' #Change to your path\n",
        "!git clone \"{git_path}\"\n",
        "\n",
        "# Install dependencies from requirements.txt file\n",
        "#!pip install -r \"{os.path.join(repo_name,'requirements.txt')}\" #Add if using requirements.txt\n",
        "\n",
        "# Change working directory to location of notebook\n",
        "notebook_dir = 'Assignments/Assignment_1'\n",
        "path_to_notebook = os.path.join(repo_name,notebook_dir)\n",
        "%cd \"{path_to_notebook}\"\n",
        "%ls"
      ]
    },
    {
      "cell_type": "markdown",
      "source": [
        "## Exploratory Data Analysis to check Assumptions"
      ],
      "metadata": {
        "id": "5B5IasDfKOCp"
      }
    },
    {
      "cell_type": "code",
      "source": [
        "import pandas as pd\n",
        "import numpy as np\n",
        "import matplotlib.pyplot as plt\n",
        "import seaborn as sns\n",
        "import scipy.stats as stats\n",
        "import statsmodels.api as sm\n",
        "from sklearn.metrics import r2_score, mean_squared_error, roc_auc_score, accuracy_score, confusion_matrix\n",
        "from statsmodels.gam.generalized_additive_model import GLMGam\n",
        "from statsmodels.gam.smooth_basis import BSplines"
      ],
      "metadata": {
        "id": "s-hNW1prKQyC"
      },
      "execution_count": 16,
      "outputs": []
    },
    {
      "cell_type": "code",
      "source": [
        "df = pd.read_csv(\"WA_Fn-UseC_-Telco-Customer-Churn.csv\")\n",
        "print(df.head())"
      ],
      "metadata": {
        "id": "Mzq72tXSRjXP",
        "outputId": "70c2cdd2-18f3-4077-d778-398a5556ce15",
        "colab": {
          "base_uri": "https://localhost:8080/"
        }
      },
      "execution_count": 4,
      "outputs": [
        {
          "output_type": "stream",
          "name": "stdout",
          "text": [
            "   customerID  gender  SeniorCitizen Partner Dependents  tenure PhoneService  \\\n",
            "0  7590-VHVEG  Female              0     Yes         No       1           No   \n",
            "1  5575-GNVDE    Male              0      No         No      34          Yes   \n",
            "2  3668-QPYBK    Male              0      No         No       2          Yes   \n",
            "3  7795-CFOCW    Male              0      No         No      45           No   \n",
            "4  9237-HQITU  Female              0      No         No       2          Yes   \n",
            "\n",
            "      MultipleLines InternetService OnlineSecurity  ... DeviceProtection  \\\n",
            "0  No phone service             DSL             No  ...               No   \n",
            "1                No             DSL            Yes  ...              Yes   \n",
            "2                No             DSL            Yes  ...               No   \n",
            "3  No phone service             DSL            Yes  ...              Yes   \n",
            "4                No     Fiber optic             No  ...               No   \n",
            "\n",
            "  TechSupport StreamingTV StreamingMovies        Contract PaperlessBilling  \\\n",
            "0          No          No              No  Month-to-month              Yes   \n",
            "1          No          No              No        One year               No   \n",
            "2          No          No              No  Month-to-month              Yes   \n",
            "3         Yes          No              No        One year               No   \n",
            "4          No          No              No  Month-to-month              Yes   \n",
            "\n",
            "               PaymentMethod MonthlyCharges  TotalCharges Churn  \n",
            "0           Electronic check          29.85         29.85    No  \n",
            "1               Mailed check          56.95        1889.5    No  \n",
            "2               Mailed check          53.85        108.15   Yes  \n",
            "3  Bank transfer (automatic)          42.30       1840.75    No  \n",
            "4           Electronic check          70.70        151.65   Yes  \n",
            "\n",
            "[5 rows x 21 columns]\n"
          ]
        }
      ]
    },
    {
      "cell_type": "code",
      "source": [
        "# clean TotalCharges\n",
        "df[\"TotalCharges\"] = pd.to_numeric(df[\"TotalCharges\"], errors=\"coerce\")\n",
        "df[\"TotalCharges\"] = df[\"TotalCharges\"].fillna(df[\"TotalCharges\"].median())\n",
        "\n",
        "df[\"Churn_flag\"] = df[\"Churn\"].map({\"Yes\":1, \"No\":0})"
      ],
      "metadata": {
        "id": "c-fE1TNqRZQo"
      },
      "execution_count": 5,
      "outputs": []
    },
    {
      "cell_type": "code",
      "source": [
        "# correlation matrix for numeric variables with churn\n",
        "numeric_cols = df.select_dtypes(include=[np.number]).columns.tolist()\n",
        "corr = df[numeric_cols].corr()[\"Churn_flag\"].sort_values(ascending=False)\n",
        "print(corr.reset_index())"
      ],
      "metadata": {
        "id": "4lIPaY3RVBBk",
        "outputId": "4e0c8986-caee-4e53-aee5-f5a50f1565b1",
        "colab": {
          "base_uri": "https://localhost:8080/"
        }
      },
      "execution_count": 7,
      "outputs": [
        {
          "output_type": "stream",
          "name": "stdout",
          "text": [
            "            index  Churn_flag\n",
            "0      Churn_flag    1.000000\n",
            "1  MonthlyCharges    0.193356\n",
            "2   SeniorCitizen    0.150889\n",
            "3    TotalCharges   -0.199037\n",
            "4          tenure   -0.352229\n"
          ]
        }
      ]
    },
    {
      "cell_type": "code",
      "source": [
        "# churn distribution by categorical features (Chi-square test for independence)\n",
        "chi2_results = []\n",
        "categorical_cols = df.select_dtypes(include=[\"object\"]).columns.drop(\"customerID\")\n",
        "for col in categorical_cols:\n",
        "    ct = pd.crosstab(df[col], df[\"Churn_flag\"])\n",
        "    chi2, p, dof, expected = stats.chi2_contingency(ct)\n",
        "    chi2_results.append((col, chi2, p))\n",
        "\n",
        "chi2_df = pd.DataFrame(chi2_results, columns=[\"feature\",\"chi2\",\"p_value\"]).sort_values(\"p_value\")\n",
        "print(chi2_df)"
      ],
      "metadata": {
        "id": "tBGKxHYPVY7j",
        "outputId": "1b8c3918-cb9f-498f-c0ae-a5f6baa0808d",
        "colab": {
          "base_uri": "https://localhost:8080/"
        }
      },
      "execution_count": 8,
      "outputs": [
        {
          "output_type": "stream",
          "name": "stdout",
          "text": [
            "             feature         chi2        p_value\n",
            "15             Churn  7037.871379   0.000000e+00\n",
            "12          Contract  1184.596572  5.863038e-258\n",
            "6     OnlineSecurity   849.998968  2.661150e-185\n",
            "9        TechSupport   828.197068  1.443084e-180\n",
            "5    InternetService   732.309590  9.571788e-160\n",
            "14     PaymentMethod   648.142327  3.682355e-140\n",
            "7       OnlineBackup   601.812790  2.079759e-131\n",
            "8   DeviceProtection   558.419369  5.505219e-122\n",
            "11   StreamingMovies   375.661479   2.667757e-82\n",
            "10       StreamingTV   374.203943   5.528994e-82\n",
            "13  PaperlessBilling   258.277649   4.073355e-58\n",
            "2         Dependents   189.129249   4.924922e-43\n",
            "1            Partner   158.733382   2.139911e-36\n",
            "4      MultipleLines    11.330441   3.464383e-03\n",
            "3       PhoneService     0.915033   3.387825e-01\n",
            "0             gender     0.484083   4.865787e-01\n"
          ]
        }
      ]
    },
    {
      "cell_type": "code",
      "source": [
        "# logistic assumption check (linearity in the logit)\n",
        "logit_assumptions = []\n",
        "for col in numeric_cols:\n",
        "    if col != \"Churn_flag\":\n",
        "        # Add a small constant to avoid log(0)\n",
        "        temp = df[[col,\"Churn_flag\"]].copy()\n",
        "        temp[col+\"_log\"] = temp[col].apply(lambda x: np.log(x+1) if x>=0 else 0)\n",
        "        corr_val, p_val = stats.pearsonr(temp[col]*temp[col+\"_log\"], temp[\"Churn_flag\"])\n",
        "        logit_assumptions.append((col, corr_val, p_val))\n",
        "\n",
        "logit_df = pd.DataFrame(logit_assumptions, columns=[\"feature\",\"corr_interaction\",\"p_value\"]).sort_values(\"p_value\")\n",
        "print(logit_df)"
      ],
      "metadata": {
        "id": "Tq71ATvhWA4m",
        "outputId": "e30274a3-df9c-4bf1-afd0-b261cbd31658",
        "colab": {
          "base_uri": "https://localhost:8080/"
        }
      },
      "execution_count": 9,
      "outputs": [
        {
          "output_type": "stream",
          "name": "stdout",
          "text": [
            "          feature  corr_interaction        p_value\n",
            "1          tenure         -0.342271  8.686489e-193\n",
            "3    TotalCharges         -0.193682   1.703691e-60\n",
            "2  MonthlyCharges          0.188683   1.889571e-57\n",
            "0   SeniorCitizen          0.150889   3.839860e-37\n"
          ]
        }
      ]
    },
    {
      "cell_type": "code",
      "source": [
        "plt.figure(figsize=(8,6))\n",
        "sns.heatmap(df[numeric_cols].corr(), annot=False, cmap=\"coolwarm\")\n",
        "plt.title(\"Correlation Heatmap (Numeric Features incl. Churn_flag)\")\n",
        "plt.show()"
      ],
      "metadata": {
        "id": "CGyluGNaaD-q",
        "outputId": "f611311d-6e95-42e8-8fd9-e6c3b7778f58",
        "colab": {
          "base_uri": "https://localhost:8080/",
          "height": 643
        }
      },
      "execution_count": 10,
      "outputs": [
        {
          "output_type": "display_data",
          "data": {
            "text/plain": [
              "<Figure size 800x600 with 2 Axes>"
            ],
            "image/png": "[encoded data removed]"
          },
          "metadata": {}
        }
      ]
    },
    {
      "cell_type": "code",
      "source": [
        "# GAM: binned churn-rate curves\n",
        "def plot_binned_rate(frame, xcol, ycol=\"Churn_flag\", q=20):\n",
        "    bins = pd.qcut(frame[xcol], q=q, duplicates=\"drop\")\n",
        "    grp = frame.groupby(bins, observed=True)[ycol].mean().reset_index()\n",
        "    mids = [(float(iv.strip(\"()[]\").split(\",\")[0]) +\n",
        "             float(iv.strip(\"()[]\").split(\",\")[1]))/2 for iv in grp[xcol].astype(str)]\n",
        "    grp[\"mid\"] = mids\n",
        "\n",
        "    plt.figure(figsize=(6,4))\n",
        "    plt.plot(grp[\"mid\"], grp[ycol], marker=\"o\")\n",
        "    plt.xlabel(xcol)\n",
        "    plt.ylabel(\"Mean churn rate\")\n",
        "    plt.title(f\"Binned churn rate vs. {xcol}\")\n",
        "    plt.grid(True, linestyle=\"--\", alpha=0.4)\n",
        "    plt.show()\n",
        "\n",
        "plot_binned_rate(df, \"tenure\")\n",
        "plot_binned_rate(df, \"MonthlyCharges\")"
      ],
      "metadata": {
        "id": "37b0e4yXaWqv",
        "outputId": "8602224d-8a2e-45f2-dd8d-fdfa4928f5b6",
        "colab": {
          "base_uri": "https://localhost:8080/",
          "height": 803
        }
      },
      "execution_count": 11,
      "outputs": [
        {
          "output_type": "display_data",
          "data": {
            "text/plain": [
              "<Figure size 600x400 with 1 Axes>"
            ],
            "image/png": "[encoded data removed]"
          },
          "metadata": {}
        },
        {
          "output_type": "display_data",
          "data": {
            "text/plain": [
              "<Figure size 600x400 with 1 Axes>"
            ],
            "image/png": "[encoded data removed]"
          },
          "metadata": {}
        }
      ]
    },
    {
      "cell_type": "markdown",
      "source": [
        "Linear Regression: Linearity violated - churn is categorical (0/1). Also some service features seem to be correlated.\n",
        "\n",
        "Logistic Regression: Numeric features (e.g., tenure, MonthlyCharges) should relate linearly to log-odds of churn, but tenure and charges do not follow strict linearity. Also some categorical dummies are correlated.\n",
        "\n",
        "GAM: Everything looks good. Churn varies nonlinearly with tenure/charges."
      ],
      "metadata": {
        "id": "nF0uZpxybNOp"
      }
    },
    {
      "cell_type": "markdown",
      "source": [
        "## Linear Regression"
      ],
      "metadata": {
        "id": "MJInZff8je69"
      }
    },
    {
      "cell_type": "code",
      "source": [
        "X = pd.get_dummies(df.drop(columns=[\"customerID\", \"Churn\", \"Churn_flag\"]), drop_first=True, dtype=int)\n",
        "y = df[\"Churn_flag\"]\n",
        "\n",
        "X_const = sm.add_constant(X)\n",
        "ols_model = sm.OLS(y, X_const)\n",
        "ols_res = ols_model.fit()\n",
        "\n",
        "y_pred = ols_res.predict(X_const)\n",
        "r2 = r2_score(y, y_pred)\n",
        "mse = mean_squared_error(y, y_pred)\n",
        "rmse = np.sqrt(mse)\n",
        "\n",
        "# coefficients by significance\n",
        "coef_df = pd.DataFrame({\n",
        "    \"term\": ols_res.params.index,\n",
        "    \"coef\": ols_res.params.values,\n",
        "    \"p_value\": ols_res.pvalues\n",
        "}).sort_values(\"p_value\")\n",
        "\n",
        "print(\"Linear Regression coefficients (sorted by significance)\", coef_df)\n",
        "print()\n",
        "print(f\"R²:   {r2:.4f}\")\n",
        "print(f\"MSE:  {mse:.4f}\")\n",
        "print(f\"RMSE: {rmse:.4f}\")\n",
        "print()\n",
        "print(ols_res.summary())"
      ],
      "metadata": {
        "id": "XpuHfdrKlycT",
        "outputId": "5bc4ea58-2b6f-4f73-f3f7-a61120e71a63",
        "colab": {
          "base_uri": "https://localhost:8080/"
        }
      },
      "execution_count": 13,
      "outputs": [
        {
          "output_type": "stream",
          "name": "stdout",
          "text": [
            "Linear Regression coefficients (sorted by significance)                                                                         term  \\\n",
            "MultipleLines_No phone service                MultipleLines_No phone service   \n",
            "Contract_One year                                          Contract_One year   \n",
            "TotalCharges                                                    TotalCharges   \n",
            "PaymentMethod_Electronic check                PaymentMethod_Electronic check   \n",
            "PaperlessBilling_Yes                                    PaperlessBilling_Yes   \n",
            "Contract_Two year                                          Contract_Two year   \n",
            "tenure                                                                tenure   \n",
            "SeniorCitizen                                                  SeniorCitizen   \n",
            "const                                                                  const   \n",
            "MultipleLines_Yes                                          MultipleLines_Yes   \n",
            "InternetService_Fiber optic                      InternetService_Fiber optic   \n",
            "Dependents_Yes                                                Dependents_Yes   \n",
            "TechSupport_Yes                                              TechSupport_Yes   \n",
            "OnlineSecurity_Yes                                        OnlineSecurity_Yes   \n",
            "DeviceProtection_No internet service    DeviceProtection_No internet service   \n",
            "OnlineBackup_No internet service            OnlineBackup_No internet service   \n",
            "StreamingTV_No internet service              StreamingTV_No internet service   \n",
            "OnlineSecurity_No internet service        OnlineSecurity_No internet service   \n",
            "StreamingMovies_No internet service      StreamingMovies_No internet service   \n",
            "TechSupport_No internet service              TechSupport_No internet service   \n",
            "InternetService_No                                        InternetService_No   \n",
            "StreamingMovies_Yes                                      StreamingMovies_Yes   \n",
            "StreamingTV_Yes                                              StreamingTV_Yes   \n",
            "PhoneService_Yes                                            PhoneService_Yes   \n",
            "OnlineBackup_Yes                                            OnlineBackup_Yes   \n",
            "PaymentMethod_Mailed check                        PaymentMethod_Mailed check   \n",
            "PaymentMethod_Credit card (automatic)  PaymentMethod_Credit card (automatic)   \n",
            "gender_Male                                                      gender_Male   \n",
            "MonthlyCharges                                                MonthlyCharges   \n",
            "DeviceProtection_Yes                                    DeviceProtection_Yes   \n",
            "Partner_Yes                                                      Partner_Yes   \n",
            "\n",
            "                                           coef       p_value  \n",
            "MultipleLines_No phone service         0.138846  6.650343e-22  \n",
            "Contract_One year                     -0.106459  2.760632e-14  \n",
            "TotalCharges                          -0.000045  3.327829e-12  \n",
            "PaymentMethod_Electronic check         0.067771  3.367086e-07  \n",
            "PaperlessBilling_Yes                   0.044911  6.840683e-06  \n",
            "Contract_Two year                     -0.072161  2.002513e-05  \n",
            "tenure                                -0.001886  1.359178e-04  \n",
            "SeniorCitizen                          0.044291  6.545448e-04  \n",
            "const                                  0.272911  7.918067e-03  \n",
            "MultipleLines_Yes                      0.058323  1.663310e-02  \n",
            "InternetService_Fiber optic            0.210865  5.391174e-02  \n",
            "Dependents_Yes                        -0.020709  7.057671e-02  \n",
            "TechSupport_Yes                       -0.043790  7.967622e-02  \n",
            "OnlineSecurity_Yes                    -0.042559  8.641928e-02  \n",
            "DeviceProtection_No internet service  -0.025667  1.039408e-01  \n",
            "OnlineBackup_No internet service      -0.025667  1.039408e-01  \n",
            "StreamingTV_No internet service       -0.025667  1.039408e-01  \n",
            "OnlineSecurity_No internet service    -0.025667  1.039408e-01  \n",
            "StreamingMovies_No internet service   -0.025667  1.039408e-01  \n",
            "TechSupport_No internet service       -0.025667  1.039408e-01  \n",
            "InternetService_No                    -0.025667  1.039408e-01  \n",
            "StreamingMovies_Yes                    0.066292  1.401147e-01  \n",
            "StreamingTV_Yes                        0.063574  1.573509e-01  \n",
            "PhoneService_Yes                       0.134065  1.584041e-01  \n",
            "OnlineBackup_Yes                      -0.011531  6.369394e-01  \n",
            "PaymentMethod_Mailed check            -0.006572  6.498527e-01  \n",
            "PaymentMethod_Credit card (automatic) -0.005835  6.663778e-01  \n",
            "gender_Male                           -0.003259  7.151033e-01  \n",
            "MonthlyCharges                        -0.001321  7.617847e-01  \n",
            "DeviceProtection_Yes                   0.004449  8.570302e-01  \n",
            "Partner_Yes                           -0.001086  9.198133e-01  \n",
            "\n",
            "R²:   0.2843\n",
            "MSE:  0.1395\n",
            "RMSE: 0.3735\n",
            "\n",
            "                            OLS Regression Results                            \n",
            "==============================================================================\n",
            "Dep. Variable:             Churn_flag   R-squared:                       0.284\n",
            "Model:                            OLS   Adj. R-squared:                  0.282\n",
            "Method:                 Least Squares   F-statistic:                     121.2\n",
            "Date:                Mon, 15 Sep 2025   Prob (F-statistic):               0.00\n",
            "Time:                        04:27:50   Log-Likelihood:                -3057.9\n",
            "No. Observations:                7043   AIC:                             6164.\n",
            "Df Residuals:                    7019   BIC:                             6328.\n",
            "Df Model:                          23                                         \n",
            "Covariance Type:            nonrobust                                         \n",
            "=========================================================================================================\n",
            "                                            coef    std err          t      P>|t|      [0.025      0.975]\n",
            "---------------------------------------------------------------------------------------------------------\n",
            "const                                     0.2729      0.103      2.656      0.008       0.072       0.474\n",
            "SeniorCitizen                             0.0443      0.013      3.409      0.001       0.019       0.070\n",
            "tenure                                   -0.0019      0.000     -3.818      0.000      -0.003      -0.001\n",
            "MonthlyCharges                           -0.0013      0.004     -0.303      0.762      -0.010       0.007\n",
            "TotalCharges                          -4.486e-05   6.43e-06     -6.975      0.000   -5.75e-05   -3.23e-05\n",
            "gender_Male                              -0.0033      0.009     -0.365      0.715      -0.021       0.014\n",
            "Partner_Yes                              -0.0011      0.011     -0.101      0.920      -0.022       0.020\n",
            "Dependents_Yes                           -0.0207      0.011     -1.808      0.071      -0.043       0.002\n",
            "PhoneService_Yes                          0.1341      0.095      1.411      0.158      -0.052       0.320\n",
            "MultipleLines_No phone service            0.1388      0.014      9.651      0.000       0.111       0.167\n",
            "MultipleLines_Yes                         0.0583      0.024      2.395      0.017       0.011       0.106\n",
            "InternetService_Fiber optic               0.2109      0.109      1.928      0.054      -0.004       0.425\n",
            "InternetService_No                       -0.0257      0.016     -1.626      0.104      -0.057       0.005\n",
            "OnlineSecurity_No internet service       -0.0257      0.016     -1.626      0.104      -0.057       0.005\n",
            "OnlineSecurity_Yes                       -0.0426      0.025     -1.715      0.086      -0.091       0.006\n",
            "OnlineBackup_No internet service         -0.0257      0.016     -1.626      0.104      -0.057       0.005\n",
            "OnlineBackup_Yes                         -0.0115      0.024     -0.472      0.637      -0.059       0.036\n",
            "DeviceProtection_No internet service     -0.0257      0.016     -1.626      0.104      -0.057       0.005\n",
            "DeviceProtection_Yes                      0.0044      0.025      0.180      0.857      -0.044       0.053\n",
            "TechSupport_No internet service          -0.0257      0.016     -1.626      0.104      -0.057       0.005\n",
            "TechSupport_Yes                          -0.0438      0.025     -1.753      0.080      -0.093       0.005\n",
            "StreamingTV_No internet service          -0.0257      0.016     -1.626      0.104      -0.057       0.005\n",
            "StreamingTV_Yes                           0.0636      0.045      1.414      0.157      -0.025       0.152\n",
            "StreamingMovies_No internet service      -0.0257      0.016     -1.626      0.104      -0.057       0.005\n",
            "StreamingMovies_Yes                       0.0663      0.045      1.476      0.140      -0.022       0.154\n",
            "Contract_One year                        -0.1065      0.014     -7.625      0.000      -0.134      -0.079\n",
            "Contract_Two year                        -0.0722      0.017     -4.268      0.000      -0.105      -0.039\n",
            "PaperlessBilling_Yes                      0.0449      0.010      4.502      0.000       0.025       0.064\n",
            "PaymentMethod_Credit card (automatic)    -0.0058      0.014     -0.431      0.666      -0.032       0.021\n",
            "PaymentMethod_Electronic check            0.0678      0.013      5.107      0.000       0.042       0.094\n",
            "PaymentMethod_Mailed check               -0.0066      0.014     -0.454      0.650      -0.035       0.022\n",
            "==============================================================================\n",
            "Omnibus:                      355.780   Durbin-Watson:                   2.005\n",
            "Prob(Omnibus):                  0.000   Jarque-Bera (JB):              386.444\n",
            "Skew:                           0.551   Prob(JB):                     1.22e-84\n",
            "Kurtosis:                       2.681   Cond. No.                     8.32e+17\n",
            "==============================================================================\n",
            "\n",
            "Notes:\n",
            "[1] Standard Errors assume that the covariance matrix of the errors is correctly specified.\n",
            "[2] The smallest eigenvalue is 1.05e-25. This might indicate that there are\n",
            "strong multicollinearity problems or that the design matrix is singular.\n"
          ]
        }
      ]
    },
    {
      "cell_type": "markdown",
      "source": [
        "Longer contracts are strongly protective against churn. Electronic check users are more likely to churn. Senior citizens are more likely to churn. Longer tenure reduces churn.\n",
        "\n",
        "Performance:\n",
        "- the model explains ~28% of the variance in churn\n",
        "- predictions are quite noisy\n",
        "- OLS is useful here mainly for interpretability; logistic regression or GAM is more appropriate for predictive accuracy"
      ],
      "metadata": {
        "id": "mUWogxVCoyUT"
      }
    },
    {
      "cell_type": "markdown",
      "source": [
        "## Logistic Regression"
      ],
      "metadata": {
        "id": "ais2NKNmqbul"
      }
    },
    {
      "cell_type": "code",
      "source": [
        "logit_model = sm.GLM(y, X_const, family=sm.families.Binomial())\n",
        "logit_res = logit_model.fit()\n",
        "\n",
        "y_pred_prob = logit_res.predict(X_const)\n",
        "y_pred_class = (y_pred_prob >= 0.5).astype(int)\n",
        "\n",
        "auc = roc_auc_score(y, y_pred_prob)\n",
        "acc = accuracy_score(y, y_pred_class)\n",
        "cm = confusion_matrix(y, y_pred_class)\n",
        "\n",
        "coef_df = pd.DataFrame({\n",
        "    \"term\": logit_res.params.index,\n",
        "    \"coef\": logit_res.params.values,\n",
        "    \"odds_ratio\": np.exp(logit_res.params.values),\n",
        "    \"p_value\": logit_res.pvalues\n",
        "}).sort_values(\"p_value\")\n",
        "\n",
        "print(\"Logistic Regression coefficients (with odds ratios)\", coef_df)\n",
        "print()\n",
        "print(f\"AUC:      {auc:.4f}\")\n",
        "print(f\"Accuracy: {acc:.4f}\")\n",
        "print(\"Confusion Matrix:\")\n",
        "print(cm)\n",
        "print()\n",
        "print(logit_res.summary())"
      ],
      "metadata": {
        "id": "V9WFkr7Yq1MI",
        "outputId": "67df4814-b599-4b3a-eddb-9524ecf38b8b",
        "colab": {
          "base_uri": "https://localhost:8080/"
        }
      },
      "execution_count": 15,
      "outputs": [
        {
          "output_type": "stream",
          "name": "stdout",
          "text": [
            "Logistic Regression coefficients (with odds ratios)                                                                         term  \\\n",
            "tenure                                                                tenure   \n",
            "Contract_Two year                                          Contract_Two year   \n",
            "Contract_One year                                          Contract_One year   \n",
            "PaperlessBilling_Yes                                    PaperlessBilling_Yes   \n",
            "TotalCharges                                                    TotalCharges   \n",
            "PaymentMethod_Electronic check                PaymentMethod_Electronic check   \n",
            "MultipleLines_No phone service                MultipleLines_No phone service   \n",
            "SeniorCitizen                                                  SeniorCitizen   \n",
            "MultipleLines_Yes                                          MultipleLines_Yes   \n",
            "OnlineBackup_No internet service            OnlineBackup_No internet service   \n",
            "OnlineSecurity_No internet service        OnlineSecurity_No internet service   \n",
            "DeviceProtection_No internet service    DeviceProtection_No internet service   \n",
            "StreamingTV_No internet service              StreamingTV_No internet service   \n",
            "TechSupport_No internet service              TechSupport_No internet service   \n",
            "StreamingMovies_No internet service      StreamingMovies_No internet service   \n",
            "InternetService_No                                        InternetService_No   \n",
            "InternetService_Fiber optic                      InternetService_Fiber optic   \n",
            "StreamingMovies_Yes                                      StreamingMovies_Yes   \n",
            "StreamingTV_Yes                                              StreamingTV_Yes   \n",
            "Dependents_Yes                                                Dependents_Yes   \n",
            "MonthlyCharges                                                MonthlyCharges   \n",
            "OnlineSecurity_Yes                                        OnlineSecurity_Yes   \n",
            "const                                                                  const   \n",
            "TechSupport_Yes                                              TechSupport_Yes   \n",
            "DeviceProtection_Yes                                    DeviceProtection_Yes   \n",
            "PaymentMethod_Credit card (automatic)  PaymentMethod_Credit card (automatic)   \n",
            "PhoneService_Yes                                            PhoneService_Yes   \n",
            "PaymentMethod_Mailed check                        PaymentMethod_Mailed check   \n",
            "gender_Male                                                      gender_Male   \n",
            "OnlineBackup_Yes                                            OnlineBackup_Yes   \n",
            "Partner_Yes                                                      Partner_Yes   \n",
            "\n",
            "                                           coef  odds_ratio       p_value  \n",
            "tenure                                -0.059409    0.942322  4.952632e-22  \n",
            "Contract_Two year                     -1.389582    0.249179  2.692000e-15  \n",
            "Contract_One year                     -0.667119    0.513185  5.382119e-10  \n",
            "PaperlessBilling_Yes                   0.341846    1.407543  4.422671e-06  \n",
            "TotalCharges                           0.000318    1.000318  5.542117e-06  \n",
            "PaymentMethod_Electronic check         0.305731    1.357617  1.213192e-03  \n",
            "MultipleLines_No phone service         0.323791    1.382358  2.205564e-03  \n",
            "SeniorCitizen                          0.215077    1.239957  1.094251e-02  \n",
            "MultipleLines_Yes                      0.446911    1.563475  1.159792e-02  \n",
            "OnlineBackup_No internet service      -0.255852    0.774257  2.639056e-02  \n",
            "OnlineSecurity_No internet service    -0.255852    0.774257  2.639056e-02  \n",
            "DeviceProtection_No internet service  -0.255852    0.774257  2.639056e-02  \n",
            "StreamingTV_No internet service       -0.255852    0.774257  2.639056e-02  \n",
            "TechSupport_No internet service       -0.255852    0.774257  2.639056e-02  \n",
            "StreamingMovies_No internet service   -0.255852    0.774257  2.639056e-02  \n",
            "InternetService_No                    -0.255852    0.774257  2.639056e-02  \n",
            "InternetService_Fiber optic            1.752959    5.771657  2.795700e-02  \n",
            "StreamingMovies_Yes                    0.603806    1.829067  6.433405e-02  \n",
            "StreamingTV_Yes                        0.591188    1.806134  6.987727e-02  \n",
            "Dependents_Yes                        -0.153768    0.857471  8.653115e-02  \n",
            "MonthlyCharges                        -0.040372    0.960432  2.032615e-01  \n",
            "OnlineSecurity_Yes                    -0.205464    0.814269  2.500455e-01  \n",
            "const                                  0.827391    2.287343  2.688688e-01  \n",
            "TechSupport_Yes                       -0.178896    0.836193  3.215063e-01  \n",
            "DeviceProtection_Yes                   0.147689    1.159152  4.021969e-01  \n",
            "PaymentMethod_Credit card (automatic) -0.086493    0.917142  4.483548e-01  \n",
            "PhoneService_Yes                       0.503600    1.654668  4.666908e-01  \n",
            "PaymentMethod_Mailed check            -0.056662    0.944913  6.217623e-01  \n",
            "gender_Male                           -0.021882    0.978355  7.355757e-01  \n",
            "OnlineBackup_Yes                       0.025791    1.026127  8.829760e-01  \n",
            "Partner_Yes                           -0.002692    0.997312  9.723927e-01  \n",
            "\n",
            "AUC:      0.8484\n",
            "Accuracy: 0.8073\n",
            "Confusion Matrix:\n",
            "[[4651  523]\n",
            " [ 834 1035]]\n",
            "\n",
            "                 Generalized Linear Model Regression Results                  \n",
            "==============================================================================\n",
            "Dep. Variable:             Churn_flag   No. Observations:                 7043\n",
            "Model:                            GLM   Df Residuals:                     7019\n",
            "Model Family:                Binomial   Df Model:                           23\n",
            "Link Function:                  Logit   Scale:                          1.0000\n",
            "Method:                          IRLS   Log-Likelihood:                -2914.7\n",
            "Date:                Mon, 15 Sep 2025   Deviance:                       5829.3\n",
            "Time:                        05:11:11   Pearson chi2:                 8.04e+03\n",
            "No. Iterations:                     7   Pseudo R-squ. (CS):             0.2807\n",
            "Covariance Type:            nonrobust                                         \n",
            "=========================================================================================================\n",
            "                                            coef    std err          z      P>|z|      [0.025      0.975]\n",
            "---------------------------------------------------------------------------------------------------------\n",
            "const                                     0.8274      0.748      1.106      0.269      -0.639       2.294\n",
            "SeniorCitizen                             0.2151      0.085      2.545      0.011       0.049       0.381\n",
            "tenure                                   -0.0594      0.006     -9.649      0.000      -0.071      -0.047\n",
            "MonthlyCharges                           -0.0404      0.032     -1.272      0.203      -0.103       0.022\n",
            "TotalCharges                              0.0003   7.01e-05      4.543      0.000       0.000       0.000\n",
            "gender_Male                              -0.0219      0.065     -0.338      0.736      -0.149       0.105\n",
            "Partner_Yes                              -0.0027      0.078     -0.035      0.972      -0.155       0.150\n",
            "Dependents_Yes                           -0.1538      0.090     -1.714      0.087      -0.330       0.022\n",
            "PhoneService_Yes                          0.5036      0.692      0.728      0.467      -0.852       1.860\n",
            "MultipleLines_No phone service            0.3238      0.106      3.061      0.002       0.116       0.531\n",
            "MultipleLines_Yes                         0.4469      0.177      2.524      0.012       0.100       0.794\n",
            "InternetService_Fiber optic               1.7530      0.798      2.198      0.028       0.190       3.316\n",
            "InternetService_No                       -0.2559      0.115     -2.220      0.026      -0.482      -0.030\n",
            "OnlineSecurity_No internet service       -0.2559      0.115     -2.220      0.026      -0.482      -0.030\n",
            "OnlineSecurity_Yes                       -0.2055      0.179     -1.150      0.250      -0.556       0.145\n",
            "OnlineBackup_No internet service         -0.2559      0.115     -2.220      0.026      -0.482      -0.030\n",
            "OnlineBackup_Yes                          0.0258      0.175      0.147      0.883      -0.318       0.369\n",
            "DeviceProtection_No internet service     -0.2559      0.115     -2.220      0.026      -0.482      -0.030\n",
            "DeviceProtection_Yes                      0.1477      0.176      0.838      0.402      -0.198       0.493\n",
            "TechSupport_No internet service          -0.2559      0.115     -2.220      0.026      -0.482      -0.030\n",
            "TechSupport_Yes                          -0.1789      0.180     -0.991      0.322      -0.533       0.175\n",
            "StreamingTV_No internet service          -0.2559      0.115     -2.220      0.026      -0.482      -0.030\n",
            "StreamingTV_Yes                           0.5912      0.326      1.813      0.070      -0.048       1.230\n",
            "StreamingMovies_No internet service      -0.2559      0.115     -2.220      0.026      -0.482      -0.030\n",
            "StreamingMovies_Yes                       0.6038      0.326      1.850      0.064      -0.036       1.244\n",
            "Contract_One year                        -0.6671      0.107     -6.208      0.000      -0.878      -0.456\n",
            "Contract_Two year                        -1.3896      0.176     -7.904      0.000      -1.734      -1.045\n",
            "PaperlessBilling_Yes                      0.3418      0.074      4.590      0.000       0.196       0.488\n",
            "PaymentMethod_Credit card (automatic)    -0.0865      0.114     -0.758      0.448      -0.310       0.137\n",
            "PaymentMethod_Electronic check            0.3057      0.094      3.236      0.001       0.121       0.491\n",
            "PaymentMethod_Mailed check               -0.0567      0.115     -0.493      0.622      -0.282       0.168\n",
            "=========================================================================================================\n"
          ]
        }
      ]
    },
    {
      "cell_type": "markdown",
      "source": [
        "Longer contracts strongly reduce churn (one-year customers have about half the odds, two-year customers about one-quarter the odds compared to month-to-month). Electronic check and paperless billing both increase churn risk (≈1.3–1.4× odds), while fiber optic internet customers are far more likely to churn (≈5.8× odds) than DSL users. Senior citizens face modestly higher odds (~1.2×), whereas longer tenure consistently lowers churn odds (≈6% reduction per month). These patterns highlight that contract type, payment method, internet service, and tenure are the strongest churn drivers."
      ],
      "metadata": {
        "id": "99rVpn00yN3t"
      }
    },
    {
      "cell_type": "markdown",
      "source": [
        "## Generalized Additive Model (GAM)"
      ],
      "metadata": {
        "id": "7b5VqRE12IU7"
      }
    },
    {
      "cell_type": "code",
      "source": [
        "# smooth variables\n",
        "X_smooth = df[[\"tenure\", \"MonthlyCharges\"]].values\n",
        "y = df[\"Churn_flag\"].values\n",
        "\n",
        "# linear categorical predictors (subset to avoid singularities)\n",
        "keep_cats = [\"Contract\", \"InternetService\", \"PaymentMethod\", \"PaperlessBilling\"]\n",
        "categorical = pd.get_dummies(df[keep_cats], drop_first=True, dtype=int)\n",
        "linear_terms = pd.DataFrame({\"SeniorCitizen\": df[\"SeniorCitizen\"].astype(int)})\n",
        "X_linear = pd.concat([linear_terms, categorical], axis=1)\n",
        "X_linear_const = sm.add_constant(X_linear, has_constant='add')\n",
        "\n",
        "bs = BSplines(X_smooth, df=[10, 10], degree=[3, 3])\n",
        "gam_model = GLMGam(y, exog=X_linear_const, smoother=bs, family=sm.families.Binomial())\n",
        "gam_res = gam_model.fit()\n",
        "\n",
        "coef_df = pd.DataFrame({\n",
        "    \"term\": gam_res.params.index,\n",
        "    \"coef\": gam_res.params.values,\n",
        "    \"odds_ratio\": np.exp(gam_res.params.values),\n",
        "    \"p_value\": gam_res.pvalues\n",
        "}).sort_values(\"p_value\")\n",
        "\n",
        "print(\"GAM linear-part coefficients (with odds ratios)\", coef_df)\n",
        "print()\n",
        "print(gam_res.summary())"
      ],
      "metadata": {
        "id": "VMj_0pN42On6",
        "outputId": "ce1af945-f257-47eb-984f-d54beb546495",
        "colab": {
          "base_uri": "https://localhost:8080/"
        }
      },
      "execution_count": 17,
      "outputs": [
        {
          "output_type": "stream",
          "name": "stdout",
          "text": [
            "GAM linear-part coefficients (with odds ratios)                                                                         term  \\\n",
            "Contract_Two year                                          Contract_Two year   \n",
            "x0_s8                                                                  x0_s8   \n",
            "Contract_One year                                          Contract_One year   \n",
            "x0_s6                                                                  x0_s6   \n",
            "x0_s3                                                                  x0_s3   \n",
            "PaperlessBilling_Yes                                    PaperlessBilling_Yes   \n",
            "x0_s4                                                                  x0_s4   \n",
            "x0_s5                                                                  x0_s5   \n",
            "InternetService_Fiber optic                      InternetService_Fiber optic   \n",
            "x0_s1                                                                  x0_s1   \n",
            "x0_s7                                                                  x0_s7   \n",
            "SeniorCitizen                                                  SeniorCitizen   \n",
            "x0_s2                                                                  x0_s2   \n",
            "PaymentMethod_Electronic check                PaymentMethod_Electronic check   \n",
            "InternetService_No                                        InternetService_No   \n",
            "PaymentMethod_Mailed check                        PaymentMethod_Mailed check   \n",
            "x0_s0                                                                  x0_s0   \n",
            "x1_s7                                                                  x1_s7   \n",
            "x1_s2                                                                  x1_s2   \n",
            "PaymentMethod_Credit card (automatic)  PaymentMethod_Credit card (automatic)   \n",
            "x1_s6                                                                  x1_s6   \n",
            "x1_s0                                                                  x1_s0   \n",
            "x1_s8                                                                  x1_s8   \n",
            "x1_s4                                                                  x1_s4   \n",
            "const                                                                  const   \n",
            "x1_s5                                                                  x1_s5   \n",
            "x1_s1                                                                  x1_s1   \n",
            "x1_s3                                                                  x1_s3   \n",
            "\n",
            "                                           coef  odds_ratio       p_value  \n",
            "Contract_Two year                     -1.633893    0.195168  2.502855e-18  \n",
            "x0_s8                                 -4.613845    0.009914  2.076085e-14  \n",
            "Contract_One year                     -0.783437    0.456833  4.834541e-13  \n",
            "x0_s6                                 -4.145935    0.015829  1.402738e-12  \n",
            "x0_s3                                 -2.845676    0.058095  3.213507e-09  \n",
            "PaperlessBilling_Yes                   0.411359    1.508866  4.142663e-08  \n",
            "x0_s4                                 -2.924276    0.053704  6.104954e-08  \n",
            "x0_s5                                 -2.727538    0.065380  2.756058e-07  \n",
            "InternetService_Fiber optic            0.883419    2.419156  3.983429e-07  \n",
            "x0_s1                                 -2.049980    0.128738  7.480745e-07  \n",
            "x0_s7                                 -2.590153    0.075009  5.402519e-06  \n",
            "SeniorCitizen                          0.306483    1.358638  2.022641e-04  \n",
            "x0_s2                                 -1.946741    0.142739  4.001650e-04  \n",
            "PaymentMethod_Electronic check         0.332237    1.394083  4.118374e-04  \n",
            "InternetService_No                    -1.204516    0.299837  2.999671e-03  \n",
            "PaymentMethod_Mailed check            -0.182510    0.833177  1.161839e-01  \n",
            "x0_s0                                 -0.975696    0.376930  1.221834e-01  \n",
            "x1_s7                                  1.135658    3.113223  4.371164e-01  \n",
            "x1_s2                                  1.045877    2.845892  4.697891e-01  \n",
            "PaymentMethod_Credit card (automatic) -0.080195    0.922936  4.788145e-01  \n",
            "x1_s6                                  0.986618    2.682148  4.924116e-01  \n",
            "x1_s0                                  0.747642    2.112014  6.134497e-01  \n",
            "x1_s8                                  0.524638    1.689846  7.382283e-01  \n",
            "x1_s4                                  0.437119    1.548241  7.582788e-01  \n",
            "const                                  0.443910    1.558789  7.623200e-01  \n",
            "x1_s5                                  0.344314    1.411022  8.070412e-01  \n",
            "x1_s1                                  0.304810    1.356367  8.273430e-01  \n",
            "x1_s3                                 -0.217049    0.804890  8.768973e-01  \n",
            "\n",
            "                 Generalized Linear Model Regression Results                  \n",
            "==============================================================================\n",
            "Dep. Variable:                      y   No. Observations:                 7043\n",
            "Model:                         GLMGam   Df Residuals:                     7015\n",
            "Model Family:                Binomial   Df Model:                        27.00\n",
            "Link Function:                  Logit   Scale:                          1.0000\n",
            "Method:                         PIRLS   Log-Likelihood:                -2893.1\n",
            "Date:                Mon, 15 Sep 2025   Deviance:                       5786.2\n",
            "Time:                        05:38:09   Pearson chi2:                 7.30e+03\n",
            "No. Iterations:                     8   Pseudo R-squ. (CS):             0.2851\n",
            "Covariance Type:            nonrobust                                         \n",
            "=========================================================================================================\n",
            "                                            coef    std err          z      P>|z|      [0.025      0.975]\n",
            "---------------------------------------------------------------------------------------------------------\n",
            "const                                     0.4439      1.468      0.302      0.762      -2.433       3.321\n",
            "SeniorCitizen                             0.3065      0.082      3.716      0.000       0.145       0.468\n",
            "Contract_One year                        -0.7834      0.108     -7.230      0.000      -0.996      -0.571\n",
            "Contract_Two year                        -1.6339      0.187     -8.732      0.000      -2.001      -1.267\n",
            "InternetService_Fiber optic               0.8834      0.174      5.070      0.000       0.542       1.225\n",
            "InternetService_No                       -1.2045      0.406     -2.968      0.003      -2.000      -0.409\n",
            "PaymentMethod_Credit card (automatic)    -0.0802      0.113     -0.708      0.479      -0.302       0.142\n",
            "PaymentMethod_Electronic check            0.3322      0.094      3.532      0.000       0.148       0.517\n",
            "PaymentMethod_Mailed check               -0.1825      0.116     -1.571      0.116      -0.410       0.045\n",
            "PaperlessBilling_Yes                      0.4114      0.075      5.485      0.000       0.264       0.558\n",
            "x0_s0                                    -0.9757      0.631     -1.546      0.122      -2.213       0.262\n",
            "x0_s1                                    -2.0500      0.414     -4.948      0.000      -2.862      -1.238\n",
            "x0_s2                                    -1.9467      0.550     -3.540      0.000      -3.025      -0.869\n",
            "x0_s3                                    -2.8457      0.481     -5.920      0.000      -3.788      -1.904\n",
            "x0_s4                                    -2.9243      0.540     -5.416      0.000      -3.983      -1.866\n",
            "x0_s5                                    -2.7275      0.531     -5.139      0.000      -3.768      -1.687\n",
            "x0_s6                                    -4.1459      0.585     -7.084      0.000      -5.293      -2.999\n",
            "x0_s7                                    -2.5902      0.569     -4.549      0.000      -3.706      -1.474\n",
            "x0_s8                                    -4.6138      0.603     -7.646      0.000      -5.797      -3.431\n",
            "x1_s0                                     0.7476      1.480      0.505      0.613      -2.153       3.648\n",
            "x1_s1                                     0.3048      1.398      0.218      0.827      -2.434       3.044\n",
            "x1_s2                                     1.0459      1.447      0.723      0.470      -1.790       3.882\n",
            "x1_s3                                    -0.2170      1.401     -0.155      0.877      -2.963       2.529\n",
            "x1_s4                                     0.4371      1.420      0.308      0.758      -2.347       3.221\n",
            "x1_s5                                     0.3443      1.410      0.244      0.807      -2.419       3.107\n",
            "x1_s6                                     0.9866      1.437      0.686      0.492      -1.830       3.804\n",
            "x1_s7                                     1.1357      1.461      0.777      0.437      -1.729       4.000\n",
            "x1_s8                                     0.5246      1.570      0.334      0.738      -2.552       3.601\n",
            "=========================================================================================================\n"
          ]
        }
      ]
    },
    {
      "cell_type": "markdown",
      "source": [
        "There are both nonlinear and categorical effects on churn. The smooth spline terms for tenure show that churn risk is highest in the early months, then drops sharply and stabilizes over time, confirming a strong nonlinear pattern. For MonthlyCharges, most spline terms are not significant, suggesting a weaker/flatter nonlinear effect. Among linear predictors, customers on longer contracts are much less likely to churn (odds reduced by ~55% for one-year and ~80% for two-year contracts), while fiber optic internet users, electronic check payers, paperless billing customers, and senior citizens all have higher churn risk. In contrast, customers with no internet service are a lot less likely to churn. Overall, contract type, billing/payment method, and internet service are key churn drivers."
      ],
      "metadata": {
        "id": "JmMYOoc25dcb"
      }
    },
    {
      "cell_type": "markdown",
      "source": [
        "## Model Comparison"
      ],
      "metadata": {
        "id": "-ycrOT-n691h"
      }
    },
    {
      "cell_type": "markdown",
      "source": [
        "Treating churn as continuous with *linear regression* provided some interpretability but poor predictive performance, explaining less than 1/3 of the variation and producing unrealistic predictions outside the 0-1 range. *Logistic regression* was a stronger fit, with an AUC of about 0.85 and good accuracy, and its coefficients translated naturally into odds ratios that were easy to interpret. However, it assumed linearity in numeric predictors, which the data didn't fully support. The *GAM* addressed this limitation by capturing nonlinear relationships, particularly the steep drop in churn as tenure increases in the first two years. It retained interpretability for categorical features while allowing flexible curves for numeric ones, offering both accuracy and customer behavior insights.\n",
        "\n",
        "For the company, *logistic regression* already provides strong, interpretable results. If their goal is not only prediction but also understanding how churn risk evolves over time or with things like monthly charges, the *GAM* is preferable since it reveals nonlinear patterns that a simple logistic model cannot. My practical recommendation is to use the *logistic regression* model for day-to-day churn prediction and operational decision-making, while leveraging the *GAM* as an analytical tool."
      ],
      "metadata": {
        "id": "_t0JdElV8Vf0"
      }
    },
    {
      "cell_type": "markdown",
      "source": [
        "##"
      ],
      "metadata": {
        "id": "Pzf5Jh08KMFT"
      }
    },
    {
      "cell_type": "markdown",
      "source": [
        "##"
      ],
      "metadata": {
        "id": "q-bxZkbZJrpI"
      }
    }
  ],
  "metadata": {
    "language_info": {
      "name": "python"
    },
    "colab": {
      "provenance": []
    },
    "kernelspec": {
      "name": "python3",
      "display_name": "Python 3"
    }
  },
  "nbformat": 4,
  "nbformat_minor": 0
}